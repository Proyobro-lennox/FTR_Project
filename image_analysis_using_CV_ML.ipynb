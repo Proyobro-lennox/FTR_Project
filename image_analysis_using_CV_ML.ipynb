{
  "nbformat": 4,
  "nbformat_minor": 0,
  "metadata": {
    "colab": {
      "provenance": [],
      "authorship_tag": "ABX9TyNl/rgRR+JwlScr6uXUZXHV",
      "include_colab_link": true
    },
    "kernelspec": {
      "name": "python3",
      "display_name": "Python 3"
    },
    "language_info": {
      "name": "python"
    }
  },
  "cells": [
    {
      "cell_type": "markdown",
      "metadata": {
        "id": "view-in-github",
        "colab_type": "text"
      },
      "source": [
        "<a href=\"https://colab.research.google.com/github/Proyobro-lennox/FTR_Project/blob/main/image_analysis_using_CV_ML.ipynb\" target=\"_parent\"><img src=\"https://colab.research.google.com/assets/colab-badge.svg\" alt=\"Open In Colab\"/></a>"
      ]
    },
    {
      "cell_type": "code",
      "execution_count": null,
      "metadata": {
        "id": "2WEWfJhGxIRv"
      },
      "outputs": [],
      "source": [
        "import requests\n",
        "%matplotlib inline\n",
        "import matplotlib.pyplot as plt\n",
        "import json\n",
        "from PIL import Image\n",
        "from io import BytesIO\n",
        "import numpy as np\n",
        "import pandas as pd"
      ]
    },
    {
      "cell_type": "code",
      "source": [
        "subscription_key = \"Enter your Key\"    #Subscription_key will contain information about your KEYs.\n",
        "analyze_url = \"Enter Your Endpoints\"   #Variable Analyze_url is your endpoint URL, concatenate “/vision/v3.1/analyze” to your endpoint URL.\n",
        "image_url = input(\"Enter Image URL :- \")\n",
        "headers = {'Ocp-Apim-Subscription-Key': subscription_key}\n",
        "params = {'visualFeatures': 'Categories,Description,Faces,Objects'}\n",
        "data = {'url': image_url}"
      ],
      "metadata": {
        "id": "SRjoyiIixW7Q"
      },
      "execution_count": null,
      "outputs": []
    },
    {
      "cell_type": "code",
      "source": [
        "try:\n",
        "    response = requests.post(analyze_url, headers=headers,params=params, json=data)\n",
        "    response.raise_for_status()\n",
        "    analysis = response.json()\n",
        "except Exception as e:\n",
        "    print(\"[Errno {0}] {1}\".format(e.errno, e.strerror))\n",
        "\n",
        "# Display the image\n",
        "image = Image.open(BytesIO(requests.get(image_url).content))\n",
        "plt.imshow(image)\n",
        "plt.axis(\"off\")\n",
        "plt.show()\n",
        "print(analysis)"
      ],
      "metadata": {
        "id": "t1FRs-1Hxri3"
      },
      "execution_count": null,
      "outputs": []
    },
    {
      "cell_type": "code",
      "source": [
        "analysis['faces']"
      ],
      "metadata": {
        "id": "Z3zO7xGryJ_k"
      },
      "execution_count": null,
      "outputs": []
    },
    {
      "cell_type": "code",
      "source": [
        "faces = []\n",
        "for rec in analysis['faces']:\n",
        "    k = []\n",
        "    k.append(rec['faceRectangle']['left'])\n",
        "    k.append(rec['faceRectangle']['top'])\n",
        "    k.append(rec['faceRectangle']['width'])\n",
        "    k.append(rec['faceRectangle']['height'])\n",
        "    faces.append(k)\n",
        "faces"
      ],
      "metadata": {
        "id": "SQstBt5ByfZu"
      },
      "execution_count": null,
      "outputs": []
    },
    {
      "cell_type": "code",
      "source": [
        "analysis['objects']"
      ],
      "metadata": {
        "id": "3YkgHj3Qyf_w"
      },
      "execution_count": null,
      "outputs": []
    },
    {
      "cell_type": "code",
      "source": [
        "objects = []\n",
        "for rec in analysis['objects']:\n",
        "    k = []\n",
        "    k.append(rec['rectangle']['x'])\n",
        "    k.append(rec['rectangle']['y'])\n",
        "    k.append(rec['rectangle']['w'])\n",
        "    k.append(rec['rectangle']['h'])\n",
        "    objects.append(k)\n",
        "objects"
      ],
      "metadata": {
        "id": "GCmi20Shyjbj"
      },
      "execution_count": null,
      "outputs": []
    },
    {
      "cell_type": "code",
      "source": [
        "import numpy as np\n",
        "import cv2\n",
        "\n",
        "\n",
        "def generate_bounding_box(image_url, boundRect):\n",
        "    image = Image.open(BytesIO(requests.get(image_url).content))\n",
        "    np_img = np.asarray(image)\n",
        "    drawing = np_img\n",
        "    for i in range(len(boundRect)):\n",
        "        color = (255,0,0)\n",
        "        cv2.rectangle(drawing, (int(boundRect[i][0]), int(boundRect[i][1])), \\\n",
        "          (int(boundRect[i][0]+boundRect[i][2]), int(boundRect[i][1]+boundRect[i][3])), color, 2)\n",
        "\n",
        "\n",
        "    #showing image\n",
        "    plt.figure(figsize=(14,8))\n",
        "    plt.imshow(drawing)\n",
        "    plt.axis(\"off\")\n",
        "    plt.show()\n"
      ],
      "metadata": {
        "id": "8cmSr9Iaymg1"
      },
      "execution_count": null,
      "outputs": []
    },
    {
      "cell_type": "code",
      "source": [
        "generate_bounding_box(image_url,faces)"
      ],
      "metadata": {
        "id": "Dlvt9m1Syq9O"
      },
      "execution_count": null,
      "outputs": []
    }
  ]
}